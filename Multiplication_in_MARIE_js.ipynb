{
  "nbformat": 4,
  "nbformat_minor": 0,
  "metadata": {
    "colab": {
      "provenance": [],
      "authorship_tag": "ABX9TyMZYo0+SxhHRB1zip6dOKsH",
      "include_colab_link": true
    },
    "kernelspec": {
      "name": "python3",
      "display_name": "Python 3"
    },
    "language_info": {
      "name": "python"
    }
  },
  "cells": [
    {
      "cell_type": "markdown",
      "metadata": {
        "id": "view-in-github",
        "colab_type": "text"
      },
      "source": [
        "<a href=\"https://colab.research.google.com/github/MA20014/-CE305-_week-12-_q-4-_20014_Mir-Ahmad_Ali/blob/main/Multiplication_in_MARIE_js.ipynb\" target=\"_parent\"><img src=\"https://colab.research.google.com/assets/colab-badge.svg\" alt=\"Open In Colab\"/></a>"
      ]
    },
    {
      "cell_type": "code",
      "execution_count": null,
      "metadata": {
        "id": "2666R9Fu2efG"
      },
      "outputs": [],
      "source": [
        "ORG 100\n",
        "\n",
        "INPUT\n",
        "store m\n",
        "INPUT\n",
        "store n\n",
        "load n\n",
        "skipcond 800\n",
        "jump NEGvalue\n",
        "load n\n",
        "skipcond 400\n",
        "jump loop\n",
        "jump halt\n",
        "\n",
        "NEGvalue, load n\n",
        "          subt n\n",
        "          subt n\n",
        "          store n\n",
        "          load negative\n",
        "          add one\n",
        "          store negative\n",
        "          jump loop\n",
        "\n",
        "loop,    Load Sum\n",
        "         Add m\n",
        "         Store Sum\n",
        "         Load n\n",
        "         Subt one\n",
        "         Store n\n",
        "         Skipcond 400\n",
        "         Jump loop\n",
        "\n",
        "load negative\n",
        "skipcond 800\n",
        "Jump halt\n",
        "load Sum\n",
        "Subt Sum\n",
        "Subt Sum\n",
        "store Sum\n",
        "\n",
        "halt, Load Sum\n",
        "      Output\n",
        "      Halt\n",
        "\n",
        "m, DEC 0\n",
        "n, DEC 0\n",
        "one, DEC 1\n",
        "negative, DEC 0\n",
        "Sum, DEC 0\n",
        "END 100"
      ]
    }
  ]
}