{
  "nbformat": 4,
  "nbformat_minor": 0,
  "metadata": {
    "colab": {
      "provenance": [],
      "authorship_tag": "ABX9TyNZk3TJ8DstanML0SMZxBf4",
      "include_colab_link": true
    },
    "kernelspec": {
      "name": "python3",
      "display_name": "Python 3"
    },
    "language_info": {
      "name": "python"
    }
  },
  "cells": [
    {
      "cell_type": "markdown",
      "metadata": {
        "id": "view-in-github",
        "colab_type": "text"
      },
      "source": [
        "<a href=\"https://colab.research.google.com/github/MA20014/-CE305-_week-12-_q-4-_20014_Mir-Ahmad_Ali/blob/main/Multiplication_in_MARIE_js.ipynb\" target=\"_parent\"><img src=\"https://colab.research.google.com/assets/colab-badge.svg\" alt=\"Open In Colab\"/></a>"
      ]
    },
    {
      "cell_type": "code",
      "execution_count": null,
      "metadata": {
        "id": "2666R9Fu2efG"
      },
      "outputs": [],
      "source": [
        "ORG 100\n",
        "\n",
        "INPUT /Takes the users input for the value of m\n",
        "store m   /Stores the value of m\n",
        "INPUT     /Takes the users input for the value of n\n",
        "store n   /Stores the value of n\n",
        "load n    /Load the value of n\n",
        "skipcond 800  /condition statement to check if value of C is greater than 0\n",
        "jump NEGvalue /If condition is met, then skip this step. If not then jump to NEGvalue\n",
        "load n    /Load the value of n\n",
        "skipcond 400  /Condition to check if the value of n is equal to 0\n",
        "jump loop /If condition is met then jump to halt and end the code since the answer is 0, but if not then jump to loop\n",
        "jump halt /Jump to halt and end the program\n",
        "\n",
        "NEGvalue, load n  /load the value of n\n",
        "          subt n  /Subt the value of n with n and make it zero\n",
        "          subt n  /Subt the value of n with n and get the absolute value of n (i.e n*-1 value)\n",
        "          store n /Store the new value of n\n",
        "          load negative /load the value of negative\n",
        "          add one /add one to negative, to indicate that the value of n was negative and the final answer will need to be modified\n",
        "          store negative  /Store the new value of negative\n",
        "          jump loop /Jump to loop\n",
        "\n",
        "loop,    Load Sum   /Load the value of Sum at the beginning of the loop\n",
        "         Add m    /Add m to Sum\n",
        "         Store Sum  /Store the new value of Sum\n",
        "         Load n   /Load the value of n\n",
        "         Subt one /Subtract the value of n with the value of one\n",
        "         Store n  /Store the new value of n\n",
        "         Skipcond 400 /Condition to check if the value of n is equal to zero\n",
        "         Jump loop  /If condition is met then it indicates the end of loop, otherwise jump back the loop and continue the iteration\n",
        "\n",
        "load negative /Load the value of negative to check if the value of n was negative\n",
        "skipcond 800  /Condition to check if the value of negative is greater than 0\n",
        "Jump halt /If condition is met then it indicates that value of n is still negative and the answer needs to modified or negated, else then jump to halt and end the program\n",
        "load Sum  /Load the value of Sum or the final answer\n",
        "Subt Sum  /Subtract the value of Sum with Sum and make it zero\n",
        "Subt Sum  /Subtract the value of Sum with Sum and negate it\n",
        "store Sum /Store the value of Sum which is our final multiplicated value\n",
        "\n",
        "halt, Load Sum  /Load the value of Sum\n",
        "      Output  /Print the value of Sum\n",
        "      Halt  /End the program\n",
        "\n",
        "m, DEC 0    /The purpose of this is to declare the variable m\n",
        "n, DEC 0    /The purpose of this is to declare the variable n\n",
        "one, DEC 1  /The purpose of this is to declare the variable one, it is a constant variable\n",
        "negative, DEC 0 /The purpose of this is to declare the variable negative, it checks if the value of n is negative\n",
        "Sum, DEC 0  /The purpose of this is to declare the variable Sum, this gives us our final multiplicated value\n",
        "END 100"
      ]
    }
  ]
}